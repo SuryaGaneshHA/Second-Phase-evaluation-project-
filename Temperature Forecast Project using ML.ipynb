{
 "cells": [
  {
   "cell_type": "code",
   "execution_count": 1,
   "id": "8a155b4a-947a-4ee4-93ee-af19a6e07ba3",
   "metadata": {},
   "outputs": [],
   "source": [
    "#Temperature Forecast Project using ML"
   ]
  },
  {
   "cell_type": "code",
   "execution_count": 5,
   "id": "00b549ae-026b-4995-8839-aeeeef26d1ac",
   "metadata": {},
   "outputs": [
    {
     "name": "stdout",
     "output_type": "stream",
     "text": [
      "Minimum Temperature Prediction: [23.9173222]\n",
      "Maximum Temperature Prediction: [33.059]\n"
     ]
    }
   ],
   "source": [
    "import pandas as pd\n",
    "from sklearn.model_selection import train_test_split\n",
    "from sklearn.ensemble import RandomForestRegressor\n",
    "from sklearn.impute import SimpleImputer\n",
    "\n",
    "# Step 1: Load the dataset\n",
    "data_url = \"https://raw.githubusercontent.com/FlipRoboTechnologies/ML_-Datasets/main/Temperature%20Forecast/temperature.csv\"\n",
    "df = pd.read_csv(data_url)\n",
    "\n",
    "# Step 2: Data preprocessing\n",
    "# Drop unnecessary columns\n",
    "df.drop(columns=['Date'], inplace=True)\n",
    "\n",
    "# Step 3: Handle missing values\n",
    "# Impute missing values with the mean of each column\n",
    "imputer = SimpleImputer(strategy='mean')\n",
    "df_imputed = pd.DataFrame(imputer.fit_transform(df), columns=df.columns)\n",
    "\n",
    "# Step 4: Split features and target variables\n",
    "X = df_imputed.drop(columns=['Next_Tmax', 'Next_Tmin'])  # Features\n",
    "y_max = df_imputed['Next_Tmax']  # Target: Next-day maximum temperature\n",
    "y_min = df_imputed['Next_Tmin']  # Target: Next-day minimum temperature\n",
    "\n",
    "# Step 5: Split data into training and testing sets\n",
    "X_train, X_test, y_max_train, y_max_test = train_test_split(X, y_max, test_size=0.2, random_state=42)\n",
    "_, _, y_min_train, y_min_test = train_test_split(X, y_min, test_size=0.2, random_state=42)\n",
    "\n",
    "# Step 6: Model training\n",
    "# Train separate models for maximum and minimum temperature prediction\n",
    "max_temp_model = RandomForestRegressor(n_estimators=100, random_state=42)\n",
    "min_temp_model = RandomForestRegressor(n_estimators=100, random_state=42)\n",
    "\n",
    "max_temp_model.fit(X_train, y_max_train)\n",
    "min_temp_model.fit(X_train, y_min_train)\n",
    "\n",
    "# Step 7: Model evaluation (optional)\n",
    "# Evaluate models using test data if needed\n",
    "\n",
    "# Step 8: Prediction\n",
    "# Make predictions for unseen data\n",
    "# For example:\n",
    "new_data = {\n",
    "    'station': [1],\n",
    "    'Present_Tmax': [30],\n",
    "    'Present_Tmin': [20],\n",
    "    'LDAPS_RHmin': [80],\n",
    "    'LDAPS_RHmax': [90],\n",
    "    'LDAPS_Tmax_lapse': [35],\n",
    "    'LDAPS_Tmin_lapse': [25],\n",
    "    'LDAPS_WS': [10],\n",
    "    'LDAPS_LH': [150],\n",
    "    'LDAPS_CC1': [0.5],\n",
    "    'LDAPS_CC2': [0.4],\n",
    "    'LDAPS_CC3': [0.3],\n",
    "    'LDAPS_CC4': [0.2],\n",
    "    'LDAPS_PPT1': [0],\n",
    "    'LDAPS_PPT2': [0],\n",
    "    'LDAPS_PPT3': [0],\n",
    "    'LDAPS_PPT4': [0],\n",
    "    'lat': [37.5],\n",
    "    'lon': [127],\n",
    "    'DEM': [100],\n",
    "    'Slope': [3],\n",
    "    'Solar radiation': [5000]\n",
    "}\n",
    "\n",
    "# Create a DataFrame from the sample data\n",
    "new_data_df = pd.DataFrame(new_data)\n",
    "\n",
    "# Make predictions for the new data\n",
    "min_temp_prediction = min_temp_model.predict(new_data_df)\n",
    "max_temp_prediction = max_temp_model.predict(new_data_df)\n",
    "\n",
    "print(\"Minimum Temperature Prediction:\", min_temp_prediction)\n",
    "print(\"Maximum Temperature Prediction:\", max_temp_prediction)\n"
   ]
  },
  {
   "cell_type": "code",
   "execution_count": null,
   "id": "3ddd578f-4344-4b61-bc2b-ba0e04717727",
   "metadata": {},
   "outputs": [],
   "source": []
  }
 ],
 "metadata": {
  "kernelspec": {
   "display_name": "Python 3 (ipykernel)",
   "language": "python",
   "name": "python3"
  },
  "language_info": {
   "codemirror_mode": {
    "name": "ipython",
    "version": 3
   },
   "file_extension": ".py",
   "mimetype": "text/x-python",
   "name": "python",
   "nbconvert_exporter": "python",
   "pygments_lexer": "ipython3",
   "version": "3.11.7"
  }
 },
 "nbformat": 4,
 "nbformat_minor": 5
}
