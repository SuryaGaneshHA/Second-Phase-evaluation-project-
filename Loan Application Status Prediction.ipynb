{
 "cells": [
  {
   "cell_type": "code",
   "execution_count": 2,
   "id": "4552afe2-29f6-406b-a0bb-9911d1ef72b7",
   "metadata": {},
   "outputs": [],
   "source": [
    "#Loan Application Status Prediction"
   ]
  },
  {
   "cell_type": "code",
   "execution_count": 18,
   "id": "b47f4af8-d21a-47e1-81ed-e04df7c1aaf3",
   "metadata": {},
   "outputs": [
    {
     "name": "stdout",
     "output_type": "stream",
     "text": [
      "Warning: There are missing values in the dataset. Handle them appropriately.\n",
      "Target column 'Loan_Status' not found in the dataset.\n"
     ]
    }
   ],
   "source": [
    "import pandas as pd\n",
    "from sklearn.preprocessing import LabelEncoder\n",
    "from sklearn.model_selection import train_test_split\n",
    "from sklearn.ensemble import RandomForestClassifier\n",
    "\n",
    "# Step 1: Load the dataset\n",
    "df = pd.read_csv(r\"C:\\Users\\ashwin\\Downloads\\loan_prediction.csv\")\n",
    "\n",
    "# Step 2: Check for missing values\n",
    "if df.isnull().sum().any():\n",
    "    print(\"Warning: There are missing values in the dataset. Handle them appropriately.\")\n",
    "\n",
    "# Step 3: Drop unnecessary columns if they exist\n",
    "columns_to_drop = ['Loan_Status']\n",
    "columns_to_drop = [col for col in columns_to_drop if col in df.columns]\n",
    "if columns_to_drop:\n",
    "    df.drop(columns=columns_to_drop, inplace=True)\n",
    "\n",
    "# Step 4: Encode categorical variables\n",
    "label_encoder = LabelEncoder()\n",
    "for col in df.columns:\n",
    "    if df[col].dtype == 'object':\n",
    "        df[col] = label_encoder.fit_transform(df[col])\n",
    "\n",
    "# Step 5: Split the data if the target column exists\n",
    "if 'Loan_Status' in df.columns:\n",
    "    X = df.drop(columns=['Loan_Status'])  # Features\n",
    "    y = df['Loan_Status']  # Target\n",
    "    X_train, X_test, y_train, y_test = train_test_split(X, y, test_size=0.2, random_state=42)\n",
    "\n",
    "    # Step 6: Model Training\n",
    "    clf = RandomForestClassifier(n_estimators=100, random_state=42)\n",
    "    clf.fit(X_train, y_train)\n",
    "\n",
    "    # Step 7: Model Evaluation\n",
    "    accuracy = clf.score(X_test, y_test)\n",
    "    print(\"Accuracy:\", accuracy)\n",
    "else:\n",
    "    print(\"Target column 'Loan_Status' not found in the dataset.\")\n"
   ]
  },
  {
   "cell_type": "code",
   "execution_count": 19,
   "id": "d59c152d-3c56-429e-8a95-07be63c33940",
   "metadata": {},
   "outputs": [
    {
     "name": "stdout",
     "output_type": "stream",
     "text": [
      "Columns: Index(['LP001002', 'Male', 'No', '0', 'Graduate', 'No.1', '5849', '0.1',\n",
      "       'Unnamed: 8', '360', '1', 'Urban', 'Y'],\n",
      "      dtype='object')\n"
     ]
    }
   ],
   "source": [
    "import pandas as pd\n",
    "\n",
    "# Step 1: Load the dataset\n",
    "df = pd.read_csv(r\"C:\\Users\\ashwin\\Downloads\\loan_prediction.csv\")\n",
    "\n",
    "# Step 2: Check the columns of the DataFrame\n",
    "print(\"Columns:\", df.columns)\n"
   ]
  },
  {
   "cell_type": "code",
   "execution_count": null,
   "id": "2ae76f81-da50-4720-9fd6-52a22f2a9221",
   "metadata": {},
   "outputs": [],
   "source": []
  }
 ],
 "metadata": {
  "kernelspec": {
   "display_name": "Python 3 (ipykernel)",
   "language": "python",
   "name": "python3"
  },
  "language_info": {
   "codemirror_mode": {
    "name": "ipython",
    "version": 3
   },
   "file_extension": ".py",
   "mimetype": "text/x-python",
   "name": "python",
   "nbconvert_exporter": "python",
   "pygments_lexer": "ipython3",
   "version": "3.11.7"
  }
 },
 "nbformat": 4,
 "nbformat_minor": 5
}
